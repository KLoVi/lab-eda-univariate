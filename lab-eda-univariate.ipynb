{
 "cells": [
  {
   "cell_type": "code",
   "execution_count": 3,
   "id": "1fe738b5",
   "metadata": {},
   "outputs": [],
   "source": [
    "import pandas as pd\n",
    "import matplotlib.pyplot as plt\n",
    "import seaborn as sns\n",
    "import numpy as np\n",
    "\n",
    "pd.set_option('display.max_rows', 500) #to show all the rows\n",
    "\n",
    "%matplotlib inline "
   ]
  },
  {
   "cell_type": "code",
   "execution_count": 4,
   "id": "3da411db",
   "metadata": {
    "scrolled": true
   },
   "outputs": [
    {
     "name": "stdout",
     "output_type": "stream",
     "text": [
      "\u001b[33mWARNING: Ignoring invalid distribution ~qlalchemy (/opt/anaconda3/lib/python3.11/site-packages)\u001b[0m\u001b[33m\n",
      "\u001b[0mRequirement already satisfied: xlrd in /opt/anaconda3/lib/python3.11/site-packages (2.0.1)\n",
      "\u001b[33mWARNING: Ignoring invalid distribution ~qlalchemy (/opt/anaconda3/lib/python3.11/site-packages)\u001b[0m\u001b[33m\n",
      "\u001b[0mNote: you may need to restart the kernel to use updated packages.\n"
     ]
    }
   ],
   "source": [
    "pip install xlrd"
   ]
  },
  {
   "cell_type": "code",
   "execution_count": 5,
   "id": "ffbf4fe6",
   "metadata": {},
   "outputs": [],
   "source": [
    "url = \"/Users/karollvivianalopezvillegas/00_Ironhack_exercises/amz_uk_price_prediction_dataset.csv\""
   ]
  },
  {
   "cell_type": "code",
   "execution_count": 6,
   "id": "a4260ef6",
   "metadata": {
    "scrolled": true
   },
   "outputs": [],
   "source": [
    "df = pd.read_csv(url)"
   ]
  },
  {
   "cell_type": "code",
   "execution_count": 7,
   "id": "3aedafac",
   "metadata": {},
   "outputs": [
    {
     "data": {
      "text/html": [
       "<div>\n",
       "<style scoped>\n",
       "    .dataframe tbody tr th:only-of-type {\n",
       "        vertical-align: middle;\n",
       "    }\n",
       "\n",
       "    .dataframe tbody tr th {\n",
       "        vertical-align: top;\n",
       "    }\n",
       "\n",
       "    .dataframe thead th {\n",
       "        text-align: right;\n",
       "    }\n",
       "</style>\n",
       "<table border=\"1\" class=\"dataframe\">\n",
       "  <thead>\n",
       "    <tr style=\"text-align: right;\">\n",
       "      <th></th>\n",
       "      <th>uid</th>\n",
       "      <th>asin</th>\n",
       "      <th>title</th>\n",
       "      <th>stars</th>\n",
       "      <th>reviews</th>\n",
       "      <th>price</th>\n",
       "      <th>isBestSeller</th>\n",
       "      <th>boughtInLastMonth</th>\n",
       "      <th>category</th>\n",
       "    </tr>\n",
       "  </thead>\n",
       "  <tbody>\n",
       "    <tr>\n",
       "      <th>0</th>\n",
       "      <td>1</td>\n",
       "      <td>B09B96TG33</td>\n",
       "      <td>Echo Dot (5th generation, 2022 release) | Big ...</td>\n",
       "      <td>4.7</td>\n",
       "      <td>15308</td>\n",
       "      <td>21.99</td>\n",
       "      <td>False</td>\n",
       "      <td>0</td>\n",
       "      <td>Hi-Fi Speakers</td>\n",
       "    </tr>\n",
       "    <tr>\n",
       "      <th>1</th>\n",
       "      <td>2</td>\n",
       "      <td>B01HTH3C8S</td>\n",
       "      <td>Anker Soundcore mini, Super-Portable Bluetooth...</td>\n",
       "      <td>4.7</td>\n",
       "      <td>98099</td>\n",
       "      <td>23.99</td>\n",
       "      <td>True</td>\n",
       "      <td>0</td>\n",
       "      <td>Hi-Fi Speakers</td>\n",
       "    </tr>\n",
       "  </tbody>\n",
       "</table>\n",
       "</div>"
      ],
      "text/plain": [
       "   uid        asin                                              title  stars  \\\n",
       "0    1  B09B96TG33  Echo Dot (5th generation, 2022 release) | Big ...    4.7   \n",
       "1    2  B01HTH3C8S  Anker Soundcore mini, Super-Portable Bluetooth...    4.7   \n",
       "\n",
       "   reviews  price  isBestSeller  boughtInLastMonth        category  \n",
       "0    15308  21.99         False                  0  Hi-Fi Speakers  \n",
       "1    98099  23.99          True                  0  Hi-Fi Speakers  "
      ]
     },
     "execution_count": 7,
     "metadata": {},
     "output_type": "execute_result"
    }
   ],
   "source": [
    "df.head(2)"
   ]
  },
  {
   "cell_type": "code",
   "execution_count": 8,
   "id": "1abb7d42",
   "metadata": {},
   "outputs": [
    {
     "data": {
      "text/plain": [
       "category\n",
       "Sports & Outdoors                                   836265\n",
       "Beauty                                               19312\n",
       "Handmade Clothing, Shoes & Accessories               19229\n",
       "Bath & Body                                          19092\n",
       "Birthday Gifts                                       18978\n",
       "Manicure & Pedicure Products                         18940\n",
       "Skin Care                                            18769\n",
       "Make-up                                              18756\n",
       "Hair Care                                            18735\n",
       "Fragrances                                           18564\n",
       "Handmade Gifts                                       18295\n",
       "Handmade Home Décor                                  18146\n",
       "Luggage and travel gear                              18142\n",
       "Handmade Jewellery                                   18044\n",
       "Handmade Artwork                                     17878\n",
       "Women                                                17772\n",
       "Handmade Home & Kitchen Products                     17435\n",
       "Handmade Kitchen & Dining                            17432\n",
       "Men                                                  17417\n",
       "Baby                                                 15050\n",
       "Handmade                                             14532\n",
       "Boys                                                 11789\n",
       "Girls                                                10310\n",
       "Garden Furniture & Accessories                        9626\n",
       "Keyboards, Mice & Input Devices                       9597\n",
       "Storage & Organisation                                9569\n",
       "Health & Personal Care                                9569\n",
       "Grocery                                               9564\n",
       "Beer, Wine & Spirits                                  9553\n",
       "Arts & Crafts                                         9549\n",
       "Outdoor Cooking                                       9532\n",
       "Scanners & Accessories                                9532\n",
       "Dolls & Accessories                                   9511\n",
       "Binoculars, Telescopes & Optics                       9497\n",
       "Garden Décor                                          9492\n",
       "Building & Construction Toys                          9490\n",
       "Learning & Education Toys                             9487\n",
       "Plants, Seeds & Bulbs                                 9482\n",
       "Kids' Art & Craft Supplies                            9482\n",
       "Barebone PCs                                          9478\n",
       "Printers & Accessories                                9471\n",
       "Kids' Play Figures                                    9471\n",
       "Jigsaws & Puzzles                                     9470\n",
       "Hi-Fi & Home Audio Accessories                        9468\n",
       "Headphones, Earphones & Accessories                   9464\n",
       "Computer Audio & Video Accessories                    9449\n",
       "Sports Supplements                                    9443\n",
       "Pet Supplies                                          9437\n",
       "Garden Storage & Housing                              9427\n",
       "Piano & Keyboard                                      9425\n",
       "Kids' Play Vehicles                                   9421\n",
       "Cycling Shoes                                         9420\n",
       "Media Streaming Devices                               9414\n",
       "Camera & Photo Accessories                            9412\n",
       "Games & Game Accessories                              9396\n",
       "Toy Advent Calendars                                  9396\n",
       "Microphones                                           9395\n",
       "Guitars & Gear                                        9393\n",
       "Recording & Computer                                  9393\n",
       "Car & Motorbike                                       9383\n",
       "Gardening                                             9381\n",
       "Flashes                                               9367\n",
       "Rough Plumbing                                        9365\n",
       "Fireplaces, Stoves & Accessories                      9364\n",
       "Headphones & Earphones                                9359\n",
       "Baby & Toddler Toys                                   9356\n",
       "GPS, Finders & Accessories                            9349\n",
       "Remote & App-Controlled Devices                       9340\n",
       "Surveillance Cameras                                  9333\n",
       "Synthesisers, Samplers & Digital Instruments          9322\n",
       "Sports Toys & Outdoor                                 9319\n",
       "Home Cinema, TV & Video                               9313\n",
       "Networking Devices                                    9295\n",
       "Bird & Wildlife Care                                  9291\n",
       "Office Electronics                                    9271\n",
       "Portable Sound & Video Products                       9263\n",
       "Soft Toys                                             9243\n",
       "Electronic Toys                                       9236\n",
       "Kids' Dress Up & Pretend Play                         9212\n",
       "Hi-Fi Receivers & Separates                           9199\n",
       "Light Bulbs                                           9183\n",
       "Household Batteries, Chargers & Accessories           9182\n",
       "Office Supplies                                       9178\n",
       "Hobbies                                               9174\n",
       "Furniture & Lighting                                  9172\n",
       "Pens, Pencils & Writing Supplies                      9160\n",
       "Office Paper Products                                 9096\n",
       "Safety & Security                                     9070\n",
       "Cables & Accessories                                  9058\n",
       "Painting Supplies, Tools & Wall Treatments            9026\n",
       "Outdoor Lighting                                      9006\n",
       "Data Storage                                          8946\n",
       "Construction Machinery                                8927\n",
       "Garden Tools & Watering Equipment                     8916\n",
       "Wearable Technology                                   8906\n",
       "Electrical Power Accessories                          8885\n",
       "Mobile Phones & Communication                         8882\n",
       "Pools, Hot Tubs & Supplies                            8875\n",
       "CD, Disc & Tape Players                               8798\n",
       "DJ & VJ Equipment                                     8765\n",
       "Telephones, VoIP & Accessories                        8749\n",
       "Hi-Fi Speakers                                        8745\n",
       "PC Gaming Accessories                                 8742\n",
       "Electrical                                            8740\n",
       "Projectors                                            8698\n",
       "Storage & Home Organisation                           8663\n",
       "Power & Hand Tools                                    8659\n",
       "Car & Vehicle Electronics                             8646\n",
       "Motorbike Electrical & Batteries                      8634\n",
       "Indoor Lighting                                       8586\n",
       "School & Educational Supplies                         8581\n",
       "Hardware                                              8570\n",
       "Monitors                                              8565\n",
       "Agricultural Equipment & Supplies                     8530\n",
       "Professional Education Supplies                       8347\n",
       "String Lights                                         8252\n",
       "Small Kitchen Appliances                              8205\n",
       "Building Supplies                                     8130\n",
       "Motorbike Handlebars, Controls & Grips                8093\n",
       "Computer Printers                                     8085\n",
       "Kitchen & Bath Fixtures                               7916\n",
       "Large Appliances                                      7884\n",
       "Tablets                                               7870\n",
       "Mobile Phones & Smartphones                           7836\n",
       "Coffee, Tea & Espresso                                7627\n",
       "Desktop PCs                                           7395\n",
       "Customers' Most Loved                                 7302\n",
       "Laptops                                               7248\n",
       "Radios & Boomboxes                                    7191\n",
       "Smartwatches                                          7179\n",
       "Snow Sledding Equipment                               7131\n",
       "Vacuums & Floorcare                                   6945\n",
       "KVM Switches                                          6925\n",
       "Basketball Footwear                                   6710\n",
       "Table Tennis                                          6507\n",
       "Home Audio Record Players                             6374\n",
       "Handmade Baby Products                                6356\n",
       "Bedding Collections                                   6309\n",
       "Computer Screws                                       6191\n",
       "PC & Video Games                                      6165\n",
       "Golf Shoes                                            5967\n",
       "Living Room Furniture                                 5906\n",
       "External Optical Drives                               5832\n",
       "Network Cards                                         5687\n",
       "External Sound Cards                                  5650\n",
       "Signs & Plaques                                       5282\n",
       "Motorbike Batteries                                   5258\n",
       "Bedroom Furniture                                     5251\n",
       "Motorbike Lighting                                    5210\n",
       "Radio Communication                                   5208\n",
       "Hallway Furniture                                     4894\n",
       "Tripods & Monopods                                    4741\n",
       "Tennis Shoes                                          4685\n",
       "Heating, Cooling & Air Quality                        4469\n",
       "Monitor Accessories                                   4429\n",
       "Cushions & Accessories                                4233\n",
       "Motorbike Instruments                                 4168\n",
       "Boxing Shoes                                          4074\n",
       "3D Printing & Scanning                                4067\n",
       "Rugs, Pads & Protectors                               4037\n",
       "Outdoor Rope Lights                                   3912\n",
       "Uninterruptible Power Supply Units & Accessories      3653\n",
       "Ballet & Dancing Footwear                             3240\n",
       "Lenses                                                3138\n",
       "Bedding & Linen                                       3115\n",
       "Men's Sports & Outdoor Shoes                          3073\n",
       "Bathroom Furniture                                    2781\n",
       "External TV Tuners & Video Capture Cards              2738\n",
       "Ironing & Steamers                                    2631\n",
       "Karaoke Equipment                                     2483\n",
       "Home Office Furniture                                 2462\n",
       "Equestrian Sports Boots                               2361\n",
       "Made in Italy Handmade                                2227\n",
       "Climbing Footwear                                     2201\n",
       "Home Entertainment Furniture                          2129\n",
       "Dining Room Furniture                                 2113\n",
       "Ski Clothing                                          2033\n",
       "Streaming Clients                                     2025\n",
       "Women's Sports & Outdoor Shoes                        1959\n",
       "SIM Cards                                             1744\n",
       "Mowers & Outdoor Power Tools                          1706\n",
       "Action Cameras                                        1697\n",
       "Digital Cameras                                       1489\n",
       "Snowboard Boots                                       1449\n",
       "Cookware                                              1440\n",
       "Kitchen Storage & Organisation                        1428\n",
       "Downhill Ski Boots                                    1284\n",
       "Home Bar Furniture                                    1203\n",
       "Photo Printers                                        1123\n",
       "Film Cameras                                          1021\n",
       "Boxes & Organisers                                     911\n",
       "Digital Frames                                         774\n",
       "Mattress Pads & Toppers                                769\n",
       "Snowboard Bindings                                     713\n",
       "Curtain & Blind Accessories                            706\n",
       "Gifts for Her                                          691\n",
       "Luxury Food & Drink                                    679\n",
       "Snowboards                                             640\n",
       "Tablet Accessories                                     536\n",
       "Bass Guitars & Gear                                    528\n",
       "Kitchen Tools & Gadgets                                516\n",
       "Coffee & Espresso Machines                             514\n",
       "Camcorders                                             488\n",
       "Motorbike Clothing                                     484\n",
       "Thermometers & Meteorological Instruments              445\n",
       "Motorbike Accessories                                  439\n",
       "Gifts for Him                                          438\n",
       "Lab & Scientific Products                              428\n",
       "Bathroom Linen                                         406\n",
       "USB Gadgets                                            349\n",
       "Cricket Shoes                                          291\n",
       "PA & Stage                                             290\n",
       "Decorative Home Accessories                            272\n",
       "Computers, Components & Accessories                    265\n",
       "Children's Bedding                                     262\n",
       "Home Fragrance                                         261\n",
       "Mobile Phone Accessories                               259\n",
       "General Music-Making Accessories                       259\n",
       "Test & Measurement                                     259\n",
       "Decking & Fencing                                      259\n",
       "Motherboards                                           259\n",
       "Motorbike Exhaust & Exhaust Systems                    258\n",
       "Art & Craft Supplies                                   258\n",
       "I/O Port Cards                                         257\n",
       "Packaging & Shipping Supplies                          257\n",
       "Skiing Poles                                           256\n",
       "Ski Goggles                                            256\n",
       "Hockey Shoes                                           256\n",
       "Professional Medical Supplies                          256\n",
       "Darts & Dartboards                                     255\n",
       "Outdoor Heaters & Fire Pits                            255\n",
       "Cutting Tools                                          255\n",
       "Inflatable Beds, Pillows & Accessories                 254\n",
       "Ski Helmets                                            254\n",
       "Photo Frames                                           254\n",
       "Adapters                                               254\n",
       "Printer Accessories                                    254\n",
       "Bathroom Lighting                                      254\n",
       "Internal TV Tuner & Video Capture Cards                253\n",
       "Downhill Skis                                          252\n",
       "Mirrors                                                250\n",
       "Wind Instruments                                       250\n",
       "Calendars & Personal Organisers                        250\n",
       "Motorbike Drive & Gears                                250\n",
       "Drums & Percussion                                     250\n",
       "String Instruments                                     250\n",
       "USB Hubs                                               250\n",
       "Torches                                                250\n",
       "Motorbike Boots & Luggage                              250\n",
       "Laptop Accessories                                     250\n",
       "Vases                                                  250\n",
       "Trampolines & Accessories                              250\n",
       "Motorbike Brakes                                       250\n",
       "Abrasive & Finishing Products                          250\n",
       "Motorbike Seat Covers                                  249\n",
       "Candles & Holders                                      249\n",
       "Graphics Cards                                         249\n",
       "Tableware                                              249\n",
       "Billiard, Snooker & Pool                               249\n",
       "Doormats                                               249\n",
       "CPUs                                                   249\n",
       "3D Printers                                            248\n",
       "Computer Memory                                        248\n",
       "Hiking Hand & Foot Warmers                             248\n",
       "Bowling                                                247\n",
       "Power Supplies                                         247\n",
       "Home Brewing & Wine Making                             246\n",
       "eBook Readers & Accessories                            246\n",
       "Decorative Artificial Flora                            245\n",
       "Computer & Server Racks                                244\n",
       "Hydraulics, Pneumatics & Plumbing                      244\n",
       "Internal Optical Drives                                244\n",
       "Blank Media Cases & Wallets                            243\n",
       "Kitchen Linen                                          242\n",
       "Slipcovers                                             240\n",
       "Window Treatments                                      239\n",
       "Bakeware                                               239\n",
       "Clocks                                                 238\n",
       "Computer Cases                                         236\n",
       "Computer Memory Card Accessories                       234\n",
       "Hard Drive Accessories                                 232\n",
       "Motorbike Engines & Engine Parts                       228\n",
       "Industrial Electrical                                  220\n",
       "Bedding Accessories                                    205\n",
       "Home Entertainment                                     196\n",
       "Water Coolers, Filters & Cartridges                    187\n",
       "Cameras                                                182\n",
       "Lights and switches                                    180\n",
       "Material Handling Products                             160\n",
       "Boating Footwear                                       140\n",
       "Lighting                                               133\n",
       "Alexa Built-In Devices                                 107\n",
       "Motorbike Chassis                                      107\n",
       "Plugs                                                  107\n",
       "Smart Home Security & Lighting                         104\n",
       "Smart Speakers                                          54\n",
       "Name: count, dtype: int64"
      ]
     },
     "execution_count": 8,
     "metadata": {},
     "output_type": "execute_result"
    }
   ],
   "source": [
    "frequency_table = df['category'].value_counts()\n",
    "frequency_table"
   ]
  },
  {
   "cell_type": "code",
   "execution_count": 9,
   "id": "211bd9b2",
   "metadata": {
    "scrolled": true
   },
   "outputs": [
    {
     "data": {
      "text/plain": [
       "category\n",
       "Sports & Outdoors                         836265\n",
       "Beauty                                     19312\n",
       "Handmade Clothing, Shoes & Accessories     19229\n",
       "Bath & Body                                19092\n",
       "Birthday Gifts                             18978\n",
       "Name: count, dtype: int64"
      ]
     },
     "execution_count": 9,
     "metadata": {},
     "output_type": "execute_result"
    }
   ],
   "source": [
    "frequency_table.head(5)"
   ]
  },
  {
   "cell_type": "code",
   "execution_count": 10,
   "id": "c1cb3eb9",
   "metadata": {},
   "outputs": [
    {
     "data": {
      "text/plain": [
       "category\n",
       "Sports & Outdoors                         836265\n",
       "Beauty                                     19312\n",
       "Handmade Clothing, Shoes & Accessories     19229\n",
       "Bath & Body                                19092\n",
       "Birthday Gifts                             18978\n",
       "Name: count, dtype: int64"
      ]
     },
     "execution_count": 10,
     "metadata": {},
     "output_type": "execute_result"
    }
   ],
   "source": [
    "df_top_5 = frequency_table.head(5)\n",
    "df_top_5"
   ]
  },
  {
   "cell_type": "markdown",
   "id": "16ae9b7c",
   "metadata": {},
   "source": [
    "Visualizations:\n",
    "\n",
    "Display the distribution of products across different categories using a bar chart. If you face problems understanding the chart, do it for a subset of top categories.\n",
    "For a subset of top categories, visualize their proportions using a pie chart. Does any category dominate the listings?\n",
    "\n",
    "SPORTS AND OUTDOORS"
   ]
  },
  {
   "cell_type": "code",
   "execution_count": 11,
   "id": "91aec81d",
   "metadata": {},
   "outputs": [
    {
     "data": {
      "text/plain": [
       "(array([0, 1, 2, 3, 4]),\n",
       " [Text(0, 0, 'Sports & Outdoors'),\n",
       "  Text(1, 0, 'Beauty'),\n",
       "  Text(2, 0, 'Handmade Clothing, Shoes & Accessories'),\n",
       "  Text(3, 0, 'Bath & Body'),\n",
       "  Text(4, 0, 'Birthday Gifts')])"
      ]
     },
     "execution_count": 11,
     "metadata": {},
     "output_type": "execute_result"
    },
    {
     "data": {
      "image/png": "[encoded data removed]",
      "text/plain": [
       "<Figure size 640x480 with 1 Axes>"
      ]
     },
     "metadata": {},
     "output_type": "display_data"
    }
   ],
   "source": [
    "sns.barplot(x=df_top_5.index, y=df_top_5.values, palette=\"Set3\")\n",
    "plt.xticks(rotation=40, fontsize = 6) "
   ]
  },
  {
   "cell_type": "code",
   "execution_count": 12,
   "id": "0d4e17c6",
   "metadata": {},
   "outputs": [
    {
     "data": {
      "text/plain": [
       "<Axes: ylabel='count'>"
      ]
     },
     "execution_count": 12,
     "metadata": {},
     "output_type": "execute_result"
    },
    {
     "data": {
      "image/png": "[encoded data removed]",
      "text/plain": [
       "<Figure size 640x480 with 1 Axes>"
      ]
     },
     "metadata": {},
     "output_type": "display_data"
    }
   ],
   "source": [
    "df_top_5.plot.pie(autopct='%1.1f%%', startangle=90, colors=sns.color_palette(\"Set3\"))"
   ]
  },
  {
   "cell_type": "markdown",
   "id": "0cbf2496",
   "metadata": {},
   "source": [
    "Measures of Centrality:\n",
    "Calculate the mean, median, and mode for the price of products.\n",
    "What's the average price point of products listed? Rta. 89.24\n",
    "How does this compare with the most common price point (mode)?  Rta. 9.99"
   ]
  },
  {
   "cell_type": "code",
   "execution_count": 13,
   "id": "394d2a93",
   "metadata": {},
   "outputs": [
    {
     "data": {
      "text/plain": [
       "(89.24, 19.09, 9.99)"
      ]
     },
     "execution_count": 13,
     "metadata": {},
     "output_type": "execute_result"
    }
   ],
   "source": [
    "mean_price = df['price'].mean().round(2)\n",
    "median_price = df['price'].median()\n",
    "mode_price = df['price'].mode()[0]\n",
    "\n",
    "mean_price, median_price, mode_price"
   ]
  },
  {
   "cell_type": "markdown",
   "id": "1e27d492",
   "metadata": {},
   "source": [
    "Measures of Dispersion:\n",
    "Determine the variance, standard deviation, range, and interquartile range for product price.\n",
    "\n",
    "How varied are the product prices? \n",
    "Very much variation for the prices, in a range from cero to 100,000.\n",
    "\n",
    "\n",
    "Are there any indicators of a significant spread in prices? \n",
    "The range and the standard deviation (345.61). Besides the mean is above the 75% quartile. "
   ]
  },
  {
   "cell_type": "code",
   "execution_count": 14,
   "id": "5362714f",
   "metadata": {},
   "outputs": [
    {
     "data": {
      "text/plain": [
       "(119445.49,\n",
       " 345.61,\n",
       " 0.0,\n",
       " 100000.0,\n",
       " 100000.0,\n",
       " 0.25     9.99\n",
       " 0.50    19.09\n",
       " 0.75    45.99\n",
       " Name: price, dtype: float64)"
      ]
     },
     "execution_count": 14,
     "metadata": {},
     "output_type": "execute_result"
    }
   ],
   "source": [
    "variance_price = round(df['price'].var(),2)\n",
    "std_dev_price = round(df['price'].std(),2)\n",
    "min_price = df['price'].min()\n",
    "max_price = df['price'].max()\n",
    "range_price = max_price - min_price\n",
    "quantiles_price = df['price'].quantile([0.25, 0.5, 0.75])\n",
    "\n",
    "variance_price, std_dev_price, min_price, max_price, range_price, quantiles_price"
   ]
  },
  {
   "cell_type": "code",
   "execution_count": 15,
   "id": "4ffd3ac6",
   "metadata": {},
   "outputs": [
    {
     "data": {
      "text/plain": [
       "count    2.443651e+06\n",
       "mean     8.924381e+01\n",
       "std      3.456089e+02\n",
       "min      0.000000e+00\n",
       "25%      9.990000e+00\n",
       "50%      1.909000e+01\n",
       "75%      4.599000e+01\n",
       "max      1.000000e+05\n",
       "Name: price, dtype: float64"
      ]
     },
     "execution_count": 15,
     "metadata": {},
     "output_type": "execute_result"
    }
   ],
   "source": [
    "df.price.describe()"
   ]
  },
  {
   "cell_type": "markdown",
   "id": "8678825e",
   "metadata": {},
   "source": [
    "Visualizations:\n",
    "\n",
    "Is there a specific price range where most products fall? \n",
    "Rta. 75% of the products have a price under 45.99 \n",
    "\n",
    "Plot a histogram to visualize the distribution of product prices. If its hard to read these diagrams, think why this is, and explain how it could be solved.\n",
    "Rta. Two reasons, hard to visualiza: the large range and the 50% of the products with prices low (above 19.09).\n",
    "It could be solved by eliminating the outliers, and may be ploting for the first 75%\n",
    "\n",
    "Are there products that are priced significantly higher than the rest? Rta. YES!\n",
    "Use a box plot to showcase the spread and potential outliers in product pricing."
   ]
  },
  {
   "cell_type": "code",
   "execution_count": 16,
   "id": "25b2faef",
   "metadata": {
    "scrolled": true
   },
   "outputs": [
    {
     "name": "stderr",
     "output_type": "stream",
     "text": [
      "/opt/anaconda3/lib/python3.11/site-packages/seaborn/_oldcore.py:1119: FutureWarning: use_inf_as_na option is deprecated and will be removed in a future version. Convert inf values to NaN before operating instead.\n",
      "  with pd.option_context('mode.use_inf_as_na', True):\n"
     ]
    },
    {
     "data": {
      "text/plain": [
       "<Axes: xlabel='price', ylabel='Count'>"
      ]
     },
     "execution_count": 16,
     "metadata": {},
     "output_type": "execute_result"
    },
    {
     "data": {
      "image/png": "[encoded data removed]",
      "text/plain": [
       "<Figure size 640x480 with 1 Axes>"
      ]
     },
     "metadata": {},
     "output_type": "display_data"
    }
   ],
   "source": [
    "sns.histplot(df['price'], kde=True, bins=60, color=\"blue\")"
   ]
  },
  {
   "cell_type": "code",
   "execution_count": 17,
   "id": "efc4136e",
   "metadata": {
    "scrolled": true
   },
   "outputs": [
    {
     "data": {
      "text/plain": [
       "<Axes: >"
      ]
     },
     "execution_count": 17,
     "metadata": {},
     "output_type": "execute_result"
    },
    {
     "data": {
      "image/png": "[encoded data removed]",
      "text/plain": [
       "<Figure size 640x480 with 1 Axes>"
      ]
     },
     "metadata": {},
     "output_type": "display_data"
    }
   ],
   "source": [
    "sns.boxplot(data = df['price'], color=\"salmon\")"
   ]
  },
  {
   "cell_type": "code",
   "execution_count": 18,
   "id": "b8a6d889",
   "metadata": {
    "scrolled": false
   },
   "outputs": [
    {
     "data": {
      "text/plain": [
       "price\n",
       "9.99       48922\n",
       "12.99      38823\n",
       "8.99       34058\n",
       "7.99       33632\n",
       "14.99      32570\n",
       "           ...  \n",
       "2398.99        1\n",
       "1453.08        1\n",
       "1785.63        1\n",
       "1347.36        1\n",
       "317.34         1\n",
       "Name: count, Length: 82916, dtype: int64"
      ]
     },
     "execution_count": 18,
     "metadata": {},
     "output_type": "execute_result"
    }
   ],
   "source": [
    "df[\"price\"].value_counts()"
   ]
  },
  {
   "cell_type": "code",
   "execution_count": 19,
   "id": "fc548f8d",
   "metadata": {},
   "outputs": [],
   "source": [
    "df_cero = df[df['price'] == 0]"
   ]
  },
  {
   "cell_type": "code",
   "execution_count": 20,
   "id": "60fe250a",
   "metadata": {
    "scrolled": true
   },
   "outputs": [
    {
     "data": {
      "text/plain": [
       "price\n",
       "0.0    20\n",
       "Name: count, dtype: int64"
      ]
     },
     "execution_count": 20,
     "metadata": {},
     "output_type": "execute_result"
    }
   ],
   "source": [
    "df_cero[\"price\"].value_counts()"
   ]
  },
  {
   "cell_type": "code",
   "execution_count": 21,
   "id": "0f107245",
   "metadata": {},
   "outputs": [],
   "source": [
    "df_nueve = df[df['price'] == 9.99]"
   ]
  },
  {
   "cell_type": "code",
   "execution_count": 22,
   "id": "7e607826",
   "metadata": {},
   "outputs": [
    {
     "data": {
      "text/plain": [
       "price\n",
       "9.99    48922\n",
       "Name: count, dtype: int64"
      ]
     },
     "execution_count": 22,
     "metadata": {},
     "output_type": "execute_result"
    }
   ],
   "source": [
    "df_nueve[\"price\"].value_counts()"
   ]
  },
  {
   "cell_type": "code",
   "execution_count": 23,
   "id": "d47cbb0f",
   "metadata": {},
   "outputs": [],
   "source": [
    "df_price_filtered = df[df[\"price\"] <= 50]"
   ]
  },
  {
   "cell_type": "code",
   "execution_count": 24,
   "id": "e92c0cf7",
   "metadata": {},
   "outputs": [
    {
     "name": "stderr",
     "output_type": "stream",
     "text": [
      "/opt/anaconda3/lib/python3.11/site-packages/seaborn/_oldcore.py:1119: FutureWarning: use_inf_as_na option is deprecated and will be removed in a future version. Convert inf values to NaN before operating instead.\n",
      "  with pd.option_context('mode.use_inf_as_na', True):\n"
     ]
    },
    {
     "data": {
      "text/plain": [
       "<Axes: xlabel='price', ylabel='Count'>"
      ]
     },
     "execution_count": 24,
     "metadata": {},
     "output_type": "execute_result"
    },
    {
     "data": {
      "image/png": "[encoded data removed]",
      "text/plain": [
       "<Figure size 640x480 with 1 Axes>"
      ]
     },
     "metadata": {},
     "output_type": "display_data"
    }
   ],
   "source": [
    "sns.histplot(df_price_filtered['price'], kde=True, bins=60, color=\"salmon\")"
   ]
  },
  {
   "cell_type": "markdown",
   "id": "86bf9cdb",
   "metadata": {},
   "source": [
    "Measures of Centrality:\n",
    "Calculate the mean, median, and mode for the rating of products.\n",
    "\n",
    "How do customers generally rate products? \n",
    "Rta. Normally CERO or they don't rate them\n",
    "\n",
    "Is there a common trend?\n",
    "CERO"
   ]
  },
  {
   "cell_type": "code",
   "execution_count": 25,
   "id": "853ba9c8",
   "metadata": {},
   "outputs": [
    {
     "data": {
      "text/plain": [
       "(2.15, 0.0, 0.0)"
      ]
     },
     "execution_count": 25,
     "metadata": {},
     "output_type": "execute_result"
    }
   ],
   "source": [
    "mean_stars = df['stars'].mean().round(2)\n",
    "median_stars = df['stars'].median()\n",
    "mode_stars = df['stars'].mode()[0]\n",
    "\n",
    "mean_stars, median_stars, mode_stars"
   ]
  },
  {
   "cell_type": "markdown",
   "id": "0bf361c7",
   "metadata": {},
   "source": [
    "Measures of Dispersion:\n",
    "Determine the variance, standard deviation, and interquartile range for product rating.\n",
    "\n",
    "Are the ratings consistent, or is there a wide variation in customer feedback?\n",
    "There is a wide variation. Hypothesis: most of the clients don't rate the products."
   ]
  },
  {
   "cell_type": "code",
   "execution_count": 26,
   "id": "79db2433",
   "metadata": {},
   "outputs": [
    {
     "data": {
      "text/plain": [
       "(4.82,\n",
       " 2.19,\n",
       " 0.0,\n",
       " 5.0,\n",
       " 5.0,\n",
       " 0.25    0.0\n",
       " 0.50    0.0\n",
       " 0.75    4.4\n",
       " Name: stars, dtype: float64)"
      ]
     },
     "execution_count": 26,
     "metadata": {},
     "output_type": "execute_result"
    }
   ],
   "source": [
    "variance_stars = round(df['stars'].var(),2)\n",
    "std_dev_stars = round(df['stars'].std(),2)\n",
    "min_stars = df['stars'].min()\n",
    "max_stars = df['stars'].max()\n",
    "range_stars = max_stars - min_stars\n",
    "quantiles_stars = df['stars'].quantile([0.25, 0.5, 0.75])\n",
    "\n",
    "variance_stars, std_dev_stars, min_stars, max_stars, range_stars, quantiles_stars"
   ]
  },
  {
   "cell_type": "markdown",
   "id": "1cf35aad",
   "metadata": {},
   "source": [
    "Shape of the Distribution:\n",
    "Calculate the skewness and kurtosis for the rating column.\n",
    "\n",
    "Are the ratings normally distributed, or do they lean towards higher or lower values?\n",
    "\n",
    "They are not normally distributed. They have a negative skewness "
   ]
  },
  {
   "cell_type": "code",
   "execution_count": 27,
   "id": "c938e231",
   "metadata": {},
   "outputs": [
    {
     "data": {
      "text/plain": [
       "(0.08, -1.93)"
      ]
     },
     "execution_count": 27,
     "metadata": {},
     "output_type": "execute_result"
    }
   ],
   "source": [
    "skewness_price = round(df['stars'].skew(),2)\n",
    "kurtosis_price = round(df['stars'].kurtosis(),2)\n",
    "\n",
    "skewness_price, kurtosis_price"
   ]
  },
  {
   "cell_type": "markdown",
   "id": "ca2820a1",
   "metadata": {},
   "source": [
    "Visualizations:\n",
    "Plot a histogram to visualize the distribution of product ratings. Is there a specific rating that is more common?"
   ]
  },
  {
   "cell_type": "code",
   "execution_count": null,
   "id": "8d2b6aee",
   "metadata": {},
   "outputs": [
    {
     "name": "stderr",
     "output_type": "stream",
     "text": [
      "/opt/anaconda3/lib/python3.11/site-packages/seaborn/_oldcore.py:1119: FutureWarning: use_inf_as_na option is deprecated and will be removed in a future version. Convert inf values to NaN before operating instead.\n",
      "  with pd.option_context('mode.use_inf_as_na', True):\n"
     ]
    }
   ],
   "source": [
    "sns.histplot(df['stars'], kde=True, bins=60, color=\"blue\")"
   ]
  },
  {
   "cell_type": "code",
   "execution_count": null,
   "id": "517bd19a",
   "metadata": {
    "scrolled": true
   },
   "outputs": [],
   "source": [
    "df.isnull().sum()"
   ]
  },
  {
   "cell_type": "code",
   "execution_count": null,
   "id": "f397a403",
   "metadata": {},
   "outputs": [],
   "source": [
    "df.duplicated().sum()"
   ]
  },
  {
   "cell_type": "code",
   "execution_count": null,
   "id": "7a409587",
   "metadata": {},
   "outputs": [],
   "source": []
  },
  {
   "cell_type": "code",
   "execution_count": null,
   "id": "bdc1b1bb",
   "metadata": {},
   "outputs": [],
   "source": []
  }
 ],
 "metadata": {
  "kernelspec": {
   "display_name": "Python 3 (ipykernel)",
   "language": "python",
   "name": "python3"
  },
  "language_info": {
   "codemirror_mode": {
    "name": "ipython",
    "version": 3
   },
   "file_extension": ".py",
   "mimetype": "text/x-python",
   "name": "python",
   "nbconvert_exporter": "python",
   "pygments_lexer": "ipython3",
   "version": "3.11.7"
  }
 },
 "nbformat": 4,
 "nbformat_minor": 5
}
